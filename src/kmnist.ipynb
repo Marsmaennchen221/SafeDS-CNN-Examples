{
 "cells": [
  {
   "cell_type": "code",
   "outputs": [],
   "source": [
    "from safeds_datasets.image import load_kmnist\n",
    "\n",
    "dataset_train, dataset_test = load_kmnist(\"data\\\\kmnist\")"
   ],
   "metadata": {
    "collapsed": false
   },
   "id": "c894ccc8076dac1c",
   "execution_count": null
  },
  {
   "cell_type": "code",
   "outputs": [],
   "source": [
    "len(dataset_train)"
   ],
   "metadata": {
    "collapsed": false
   },
   "id": "7fe6e9c841e491d8",
   "execution_count": null
  },
  {
   "cell_type": "code",
   "outputs": [],
   "source": [
    "len(dataset_test)"
   ],
   "metadata": {
    "collapsed": false
   },
   "id": "b4d5665efe933ae2",
   "execution_count": null
  },
  {
   "cell_type": "code",
   "outputs": [],
   "source": [
    "from safeds.ml.nn.layers import Convolutional2DLayer, MaxPooling2DLayer, FlattenLayer, ForwardLayer\n",
    "\n",
    "layers = [\n",
    "    Convolutional2DLayer(6, 5),\n",
    "    MaxPooling2DLayer(2),\n",
    "    Convolutional2DLayer(16, 5),\n",
    "    MaxPooling2DLayer(2),\n",
    "    FlattenLayer(),\n",
    "    ForwardLayer(120),\n",
    "    ForwardLayer(84),\n",
    "    ForwardLayer(10),\n",
    "]"
   ],
   "metadata": {
    "collapsed": false
   },
   "id": "feb409fe6bab4cf1",
   "execution_count": null
  },
  {
   "cell_type": "code",
   "outputs": [],
   "source": [
    "from safeds.ml.nn import NeuralNetworkClassifier\n",
    "from safeds.ml.nn.converters import InputConversionImage, OutputConversionImageToColumn\n",
    "\n",
    "lenet_5 = NeuralNetworkClassifier(InputConversionImage(dataset_train.input_size), layers, OutputConversionImageToColumn())"
   ],
   "metadata": {
    "collapsed": false
   },
   "id": "1a97701e4046f1a6",
   "execution_count": null
  },
  {
   "cell_type": "code",
   "outputs": [],
   "source": [
    "import sys\n",
    "\n",
    "\n",
    "def batch_completion(batch_number: int, batch_loss: float):\n",
    "    sys.stdout.write(f\"\\rbatch [{batch_number}]: {batch_loss}\")\n",
    "    sys.stdout.flush()\n",
    "\n",
    "def epoch_completion(epoch_number: int, epoch_loss: float):\n",
    "    sys.stdout.write(f\"\\repoch [{epoch_number}]: {epoch_loss}\\n\")\n",
    "    sys.stdout.flush()"
   ],
   "metadata": {
    "collapsed": false
   },
   "id": "23238be79d92a8bb",
   "execution_count": null
  },
  {
   "cell_type": "code",
   "outputs": [],
   "source": [
    "trained_lenet_5 = lenet_5.fit(dataset_train, epoch_size=10, learning_rate=0.002, callback_on_epoch_completion=epoch_completion, callback_on_batch_completion=batch_completion)"
   ],
   "metadata": {
    "collapsed": false
   },
   "id": "47f8ac38abe0587c",
   "execution_count": null
  },
  {
   "cell_type": "code",
   "outputs": [],
   "source": [
    "prediction = trained_lenet_5.predict(dataset_test.get_input())"
   ],
   "metadata": {
    "collapsed": false
   },
   "id": "6acca606bb061de8",
   "execution_count": null
  },
  {
   "cell_type": "code",
   "outputs": [],
   "source": [
    "prediction.get_input().remove_image_by_index(list(range(9, len(dataset_test))))"
   ],
   "metadata": {
    "collapsed": false
   },
   "id": "d85ccc9cd9951653",
   "execution_count": null
  },
  {
   "cell_type": "code",
   "outputs": [],
   "source": [
    "from safeds.data.tabular.containers import Column\n",
    "\n",
    "predicted_output: Column = prediction.get_output()\n",
    "\n",
    "predicted_output.to_list()[0:9]"
   ],
   "metadata": {
    "collapsed": false
   },
   "id": "2e0a95d0fa6a45fe",
   "execution_count": null
  },
  {
   "cell_type": "code",
   "outputs": [],
   "source": [
    "correct_output: Column = dataset_test.get_output()\n",
    "\n",
    "correct_output.to_list()[0:9]"
   ],
   "metadata": {
    "collapsed": false
   },
   "id": "b91d5421d4ed9dff",
   "execution_count": null
  }
 ],
 "metadata": {
  "kernelspec": {
   "display_name": "Python 3",
   "language": "python",
   "name": "python3"
  },
  "language_info": {
   "codemirror_mode": {
    "name": "ipython",
    "version": 2
   },
   "file_extension": ".py",
   "mimetype": "text/x-python",
   "name": "python",
   "nbconvert_exporter": "python",
   "pygments_lexer": "ipython2",
   "version": "2.7.6"
  }
 },
 "nbformat": 4,
 "nbformat_minor": 5
}
