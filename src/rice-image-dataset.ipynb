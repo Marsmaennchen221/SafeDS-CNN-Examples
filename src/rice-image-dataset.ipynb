{
 "cells": [
  {
   "cell_type": "code",
   "execution_count": 2,
   "id": "initial_id",
   "metadata": {
    "collapsed": true,
    "ExecuteTime": {
     "end_time": "2024-05-16T15:02:08.102746Z",
     "start_time": "2024-05-16T15:02:08.099930Z"
    }
   },
   "outputs": [],
   "source": [
    "res = \"\""
   ]
  },
  {
   "cell_type": "code",
   "outputs": [],
   "source": [
    "from safeds.data.image.containers import ImageList\n",
    "\n",
    "rice_images, filenames = ImageList.from_files(res, return_filenames=True, load_percentage=0.4)"
   ],
   "metadata": {
    "collapsed": false,
    "ExecuteTime": {
     "end_time": "2024-05-16T15:02:28.290043Z",
     "start_time": "2024-05-16T15:02:08.123749Z"
    }
   },
   "id": "7ed0796b6f5d70eb",
   "execution_count": 3
  },
  {
   "cell_type": "code",
   "outputs": [
    {
     "data": {
      "text/plain": "+-----------+\n| label     |\n| ---       |\n| str       |\n+===========+\n| Ipsala    |\n| Jasmine   |\n| Arborio   |\n| Jasmine   |\n| Basmati   |\n| …         |\n| Arborio   |\n| Karacadag |\n| Basmati   |\n| Basmati   |\n| Basmati   |\n+-----------+",
      "text/html": "<div><style>\n.dataframe > thead > tr,\n.dataframe > tbody > tr {\n  text-align: right;\n  white-space: pre-wrap;\n}\n</style>\n<small>shape: (30_000,)</small><table border=\"1\" class=\"dataframe\"><thead><tr><th>label</th></tr><tr><td>str</td></tr></thead><tbody><tr><td>&quot;Ipsala&quot;</td></tr><tr><td>&quot;Jasmine&quot;</td></tr><tr><td>&quot;Arborio&quot;</td></tr><tr><td>&quot;Jasmine&quot;</td></tr><tr><td>&quot;Basmati&quot;</td></tr><tr><td>&hellip;</td></tr><tr><td>&quot;Arborio&quot;</td></tr><tr><td>&quot;Karacadag&quot;</td></tr><tr><td>&quot;Basmati&quot;</td></tr><tr><td>&quot;Basmati&quot;</td></tr><tr><td>&quot;Basmati&quot;</td></tr></tbody></table></div>"
     },
     "execution_count": 4,
     "metadata": {},
     "output_type": "execute_result"
    }
   ],
   "source": [
    "import re\n",
    "from safeds.data.tabular.containers import Column\n",
    "\n",
    "labels = Column(\n",
    "    \"label\", \n",
    "    [re.search(r\"(.*)[\\\\/](.*)[\\\\/](.*)\\.\", filepath).group(2) for filepath in filenames]\n",
    ")\n",
    "labels"
   ],
   "metadata": {
    "collapsed": false,
    "ExecuteTime": {
     "end_time": "2024-05-16T15:02:28.550881Z",
     "start_time": "2024-05-16T15:02:28.292039Z"
    }
   },
   "id": "b001e99d9b4bd8ef",
   "execution_count": 4
  },
  {
   "cell_type": "code",
   "outputs": [],
   "source": [
    "from safeds.data.labeled.containers import ImageDataset\n",
    "\n",
    "dataset = ImageDataset(rice_images, labels, batch_size=32, shuffle=True)"
   ],
   "metadata": {
    "collapsed": false,
    "ExecuteTime": {
     "end_time": "2024-05-16T15:04:32.291953Z",
     "start_time": "2024-05-16T15:04:32.284191Z"
    }
   },
   "id": "c894ccc8076dac1c",
   "execution_count": 11
  },
  {
   "cell_type": "code",
   "outputs": [
    {
     "data": {
      "text/plain": "30000"
     },
     "execution_count": 12,
     "metadata": {},
     "output_type": "execute_result"
    }
   ],
   "source": [
    "len(dataset)"
   ],
   "metadata": {
    "collapsed": false,
    "ExecuteTime": {
     "end_time": "2024-05-16T15:04:34.528067Z",
     "start_time": "2024-05-16T15:04:34.524595Z"
    }
   },
   "id": "7fe6e9c841e491d8",
   "execution_count": 12
  },
  {
   "cell_type": "code",
   "outputs": [],
   "source": [
    "from safeds.ml.nn.layers import Convolutional2DLayer, MaxPooling2DLayer, FlattenLayer, ForwardLayer\n",
    "\n",
    "layers = [\n",
    "    Convolutional2DLayer(16, 5, padding=2),\n",
    "    MaxPooling2DLayer(3, stride=3),\n",
    "    Convolutional2DLayer(32, 5, padding=2),\n",
    "    MaxPooling2DLayer(3, stride=3),\n",
    "    Convolutional2DLayer(64, 5, padding=2),\n",
    "    MaxPooling2DLayer(2, stride=2),\n",
    "    Convolutional2DLayer(128, 5, padding=2),\n",
    "    MaxPooling2DLayer(2, stride=2),\n",
    "    FlattenLayer(),\n",
    "    ForwardLayer(1024),\n",
    "    ForwardLayer(256),\n",
    "    ForwardLayer(len(labels.get_distinct_values())),\n",
    "]"
   ],
   "metadata": {
    "collapsed": false,
    "ExecuteTime": {
     "end_time": "2024-05-16T15:02:28.574020Z",
     "start_time": "2024-05-16T15:02:28.564711Z"
    }
   },
   "id": "feb409fe6bab4cf1",
   "execution_count": 6
  },
  {
   "cell_type": "code",
   "outputs": [],
   "source": [
    "from safeds.ml.nn import NeuralNetworkClassifier\n",
    "from safeds.ml.nn.converters import InputConversionImage, OutputConversionImageToColumn\n",
    "\n",
    "cnn = NeuralNetworkClassifier(InputConversionImage(dataset.input_size), layers, OutputConversionImageToColumn())"
   ],
   "metadata": {
    "collapsed": false,
    "ExecuteTime": {
     "end_time": "2024-05-16T15:02:28.600940Z",
     "start_time": "2024-05-16T15:02:28.574020Z"
    }
   },
   "id": "1a97701e4046f1a6",
   "execution_count": 7
  },
  {
   "cell_type": "code",
   "outputs": [],
   "source": [
    "def epoch_completion(epoch_number: int, epoch_loss: float):\n",
    "    print(f\"epoch [{epoch_number}]: {epoch_loss}\")"
   ],
   "metadata": {
    "collapsed": false,
    "ExecuteTime": {
     "end_time": "2024-05-16T15:07:22.933132Z",
     "start_time": "2024-05-16T15:07:22.930196Z"
    }
   },
   "id": "23238be79d92a8bb",
   "execution_count": 14
  },
  {
   "cell_type": "code",
   "outputs": [
    {
     "name": "stdout",
     "output_type": "stream",
     "text": [
      "epoch [1]: 1.6092273578969145\n",
      "epoch [2]: 1.6086994515044857\n",
      "epoch [3]: 1.6081099033609891\n",
      "epoch [4]: 1.607268920331113\n",
      "epoch [5]: 1.6058132883582288\n",
      "epoch [6]: 1.6029890539295384\n",
      "epoch [7]: 1.594318954293916\n",
      "epoch [8]: 1.4976849730080888\n",
      "epoch [9]: 0.644023995361984\n",
      "epoch [10]: 0.247273467308375\n",
      "epoch [11]: 0.15271162412075728\n",
      "epoch [12]: 0.12474599635617724\n",
      "epoch [13]: 0.10919117854475212\n",
      "epoch [14]: 0.10531921253384732\n",
      "epoch [15]: 0.10134941124434728\n",
      "epoch [16]: 0.09989633529892823\n",
      "epoch [17]: 0.09677357091330119\n",
      "epoch [18]: 0.09247126185031397\n",
      "epoch [19]: 0.09242277168509945\n",
      "epoch [20]: 0.09101553422970765\n"
     ]
    }
   ],
   "source": [
    "trained_cnn = cnn.fit(dataset, 20, 32, callback_on_epoch_completion=epoch_completion)"
   ],
   "metadata": {
    "collapsed": false,
    "ExecuteTime": {
     "end_time": "2024-05-16T15:11:17.569709Z",
     "start_time": "2024-05-16T15:07:51.066355Z"
    }
   },
   "id": "47f8ac38abe0587c",
   "execution_count": 16
  },
  {
   "cell_type": "code",
   "outputs": [],
   "source": [],
   "metadata": {
    "collapsed": false
   },
   "id": "d39f4017c758012"
  }
 ],
 "metadata": {
  "kernelspec": {
   "display_name": "Python 3",
   "language": "python",
   "name": "python3"
  },
  "language_info": {
   "codemirror_mode": {
    "name": "ipython",
    "version": 2
   },
   "file_extension": ".py",
   "mimetype": "text/x-python",
   "name": "python",
   "nbconvert_exporter": "python",
   "pygments_lexer": "ipython2",
   "version": "2.7.6"
  }
 },
 "nbformat": 4,
 "nbformat_minor": 5
}
