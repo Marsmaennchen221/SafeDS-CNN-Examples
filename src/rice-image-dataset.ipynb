{
 "cells": [
  {
   "cell_type": "code",
   "execution_count": null,
   "id": "initial_id",
   "metadata": {
    "collapsed": true
   },
   "outputs": [],
   "source": [
    "import sys\n",
    "\n",
    "res = \"path-to-rice-dataset\"  # https://www.kaggle.com/datasets/muratkokludataset/rice-image-dataset"
   ]
  },
  {
   "cell_type": "code",
   "outputs": [],
   "source": [
    "from safeds.data.image.containers import ImageList\n",
    "\n",
    "rice_images, filenames = ImageList.from_files(res, return_filenames=True, load_percentage=0.05)"
   ],
   "metadata": {
    "collapsed": false
   },
   "id": "7ed0796b6f5d70eb",
   "execution_count": null
  },
  {
   "cell_type": "code",
   "outputs": [],
   "source": [
    "import re\n",
    "from safeds.data.tabular.containers import Column\n",
    "\n",
    "labels = Column(\n",
    "    \"label\", \n",
    "    [re.search(r\"(.*)[\\\\/](.*)[\\\\/](.*)\\.\", filepath).group(2) for filepath in filenames]\n",
    ")\n",
    "labels"
   ],
   "metadata": {
    "collapsed": false
   },
   "id": "b001e99d9b4bd8ef",
   "execution_count": null
  },
  {
   "cell_type": "code",
   "outputs": [],
   "source": [
    "from safeds.data.labeled.containers import ImageDataset\n",
    "\n",
    "dataset = ImageDataset(rice_images, labels, batch_size=8, shuffle=True)"
   ],
   "metadata": {
    "collapsed": false
   },
   "id": "c894ccc8076dac1c",
   "execution_count": null
  },
  {
   "cell_type": "code",
   "outputs": [],
   "source": [
    "len(dataset)"
   ],
   "metadata": {
    "collapsed": false
   },
   "id": "7fe6e9c841e491d8",
   "execution_count": null
  },
  {
   "cell_type": "code",
   "outputs": [],
   "source": [
    "from safeds.ml.nn.layers import Convolutional2DLayer, MaxPooling2DLayer, FlattenLayer, ForwardLayer\n",
    "\n",
    "layers = [\n",
    "    Convolutional2DLayer(16, 5, padding=2),\n",
    "    MaxPooling2DLayer(3, stride=3),\n",
    "    Convolutional2DLayer(32, 5, padding=2),\n",
    "    MaxPooling2DLayer(3, stride=3),\n",
    "    Convolutional2DLayer(64, 5, padding=2),\n",
    "    MaxPooling2DLayer(2, stride=2),\n",
    "    Convolutional2DLayer(128, 5, padding=2),\n",
    "    MaxPooling2DLayer(2, stride=2),\n",
    "    FlattenLayer(),\n",
    "    ForwardLayer(1024),\n",
    "    ForwardLayer(256),\n",
    "    ForwardLayer(len(labels.get_distinct_values())),\n",
    "]"
   ],
   "metadata": {
    "collapsed": false
   },
   "id": "feb409fe6bab4cf1",
   "execution_count": null
  },
  {
   "cell_type": "code",
   "outputs": [],
   "source": [
    "from safeds.ml.nn import NeuralNetworkClassifier\n",
    "from safeds.ml.nn.converters import InputConversionImage, OutputConversionImageToColumn\n",
    "\n",
    "cnn = NeuralNetworkClassifier(InputConversionImage(dataset.input_size), layers, OutputConversionImageToColumn())"
   ],
   "metadata": {
    "collapsed": false
   },
   "id": "1a97701e4046f1a6",
   "execution_count": null
  },
  {
   "cell_type": "code",
   "outputs": [],
   "source": [
    "def batch_completion(batch_number: int, batch_loss: float):\n",
    "    sys.stdout.write(f\"\\rbatch [{batch_number}]: {batch_loss}\")\n",
    "    sys.stdout.flush()\n",
    "\n",
    "def epoch_completion(epoch_number: int, epoch_loss: float):\n",
    "    sys.stdout.write(f\"\\repoch [{epoch_number}]: {epoch_loss}\\n\")\n",
    "    sys.stdout.flush()"
   ],
   "metadata": {
    "collapsed": false
   },
   "id": "23238be79d92a8bb",
   "execution_count": null
  },
  {
   "cell_type": "code",
   "outputs": [],
   "source": [
    "trained_cnn = cnn.fit(dataset, epoch_size=5, learning_rate=0.05, callback_on_epoch_completion=epoch_completion, callback_on_batch_completion=batch_completion)"
   ],
   "metadata": {
    "collapsed": false
   },
   "id": "47f8ac38abe0587c",
   "execution_count": null
  }
 ],
 "metadata": {
  "kernelspec": {
   "display_name": "Python 3",
   "language": "python",
   "name": "python3"
  },
  "language_info": {
   "codemirror_mode": {
    "name": "ipython",
    "version": 2
   },
   "file_extension": ".py",
   "mimetype": "text/x-python",
   "name": "python",
   "nbconvert_exporter": "python",
   "pygments_lexer": "ipython2",
   "version": "2.7.6"
  }
 },
 "nbformat": 4,
 "nbformat_minor": 5
}
